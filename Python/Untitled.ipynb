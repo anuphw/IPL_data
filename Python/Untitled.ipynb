{
 "cells": [
  {
   "cell_type": "code",
   "execution_count": 1,
   "metadata": {
    "collapsed": false
   },
   "outputs": [
    {
     "name": "stdout",
     "output_type": "stream",
     "text": [
      "Populating the interactive namespace from numpy and matplotlib\n"
     ]
    }
   ],
   "source": [
    "%pylab inline\n",
    "import pandas as pd\n",
    "import seaborn as sns"
   ]
  },
  {
   "cell_type": "code",
   "execution_count": 2,
   "metadata": {
    "collapsed": false
   },
   "outputs": [],
   "source": [
    "events = pd.read_csv('../CSV/events.csv',delimiter=\";\")\n",
    "match_info = pd.read_csv('../CSV/match_info.csv',delimiter=\";\")"
   ]
  },
  {
   "cell_type": "code",
   "execution_count": 11,
   "metadata": {
    "collapsed": true
   },
   "outputs": [
    {
     "name": "stdout",
     "output_type": "stream",
     "text": [
      "<class 'pandas.core.frame.DataFrame'>\n",
      "RangeIndex: 136979 entries, 0 to 136978\n",
      "Data columns (total 15 columns):\n",
      "match_id            136979 non-null int64\n",
      "innings             136979 non-null int64\n",
      "ball                136979 non-null float64\n",
      "batsman             136979 non-null object\n",
      "non_striker         136979 non-null object\n",
      "batting_team        136979 non-null object\n",
      "bowler              136979 non-null object\n",
      "bowling_team        136979 non-null object\n",
      "batsman_runs        136979 non-null int64\n",
      "extra_runs          136979 non-null int64\n",
      "total_runs          136979 non-null int64\n",
      "extra_type          136979 non-null object\n",
      "out_type            136979 non-null object\n",
      "player_out          136979 non-null object\n",
      "fielder_involved    136979 non-null object\n",
      "dtypes: float64(1), int64(5), object(9)\n",
      "memory usage: 15.7+ MB\n",
      "<class 'pandas.core.frame.DataFrame'>\n",
      "RangeIndex: 577 entries, 0 to 576\n",
      "Data columns (total 21 columns):\n",
      "competition      577 non-null object\n",
      "match_id         577 non-null int64\n",
      "start_date       577 non-null object\n",
      "end_date         577 non-null object\n",
      "match_type       577 non-null object\n",
      "overs            577 non-null int64\n",
      "city             577 non-null object\n",
      "venue            577 non-null object\n",
      "neutral_venue    577 non-null int64\n",
      "home_team        577 non-null object\n",
      "away_team        577 non-null object\n",
      "umpire1          577 non-null object\n",
      "umpire2          577 non-null object\n",
      "toss_winner      577 non-null object\n",
      "decision         577 non-null object\n",
      "result_method    577 non-null object\n",
      "winner           577 non-null object\n",
      "win_innings      577 non-null int64\n",
      "win_runs         577 non-null int64\n",
      "win_wickets      577 non-null int64\n",
      "man_of_match     577 non-null object\n",
      "dtypes: int64(6), object(15)\n",
      "memory usage: 94.7+ KB\n"
     ]
    }
   ],
   "source": [
    "events.info()\n",
    "match_info.info()"
   ]
  },
  {
   "cell_type": "code",
   "execution_count": 3,
   "metadata": {
    "collapsed": false
   },
   "outputs": [],
   "source": [
    "match_info.season = pd.DatetimeIndex(match_info.start_date).year"
   ]
  },
  {
   "cell_type": "code",
   "execution_count": 3,
   "metadata": {
    "collapsed": false
   },
   "outputs": [
    {
     "name": "stdout",
     "output_type": "stream",
     "text": [
      "<class 'pandas.core.frame.DataFrame'>\n",
      "RangeIndex: 577 entries, 0 to 576\n",
      "Data columns (total 2 columns):\n",
      "match_id    577 non-null int64\n",
      "season      577 non-null int32\n",
      "dtypes: int32(1), int64(1)\n",
      "memory usage: 6.8 KB\n"
     ]
    }
   ],
   "source": [
    "match_info[\"season\"] = pd.DatetimeIndex(match_info.start_date).year\n",
    "match_info[['match_id','season']].info()"
   ]
  },
  {
   "cell_type": "code",
   "execution_count": 4,
   "metadata": {
    "collapsed": false
   },
   "outputs": [
    {
     "data": {
      "text/html": [
       "<div>\n",
       "<table border=\"1\" class=\"dataframe\">\n",
       "  <thead>\n",
       "    <tr style=\"text-align: right;\">\n",
       "      <th></th>\n",
       "      <th>match_id</th>\n",
       "      <th>innings</th>\n",
       "      <th>ball</th>\n",
       "      <th>batsman</th>\n",
       "      <th>non_striker</th>\n",
       "      <th>batting_team</th>\n",
       "      <th>bowler</th>\n",
       "      <th>bowling_team</th>\n",
       "      <th>batsman_runs</th>\n",
       "      <th>extra_runs</th>\n",
       "      <th>total_runs</th>\n",
       "      <th>extra_type</th>\n",
       "      <th>out_type</th>\n",
       "      <th>player_out</th>\n",
       "      <th>fielder_involved</th>\n",
       "      <th>season</th>\n",
       "    </tr>\n",
       "  </thead>\n",
       "  <tbody>\n",
       "    <tr>\n",
       "      <th>0</th>\n",
       "      <td>335982</td>\n",
       "      <td>0</td>\n",
       "      <td>0.1</td>\n",
       "      <td>SC Ganguly</td>\n",
       "      <td>BB McCullum</td>\n",
       "      <td>Kolkata Knight Riders</td>\n",
       "      <td>P Kumar</td>\n",
       "      <td>Royal Challengers Bangalore</td>\n",
       "      <td>0</td>\n",
       "      <td>1</td>\n",
       "      <td>1</td>\n",
       "      <td>legbyes</td>\n",
       "      <td>none</td>\n",
       "      <td>none</td>\n",
       "      <td>none</td>\n",
       "      <td>2008</td>\n",
       "    </tr>\n",
       "    <tr>\n",
       "      <th>1</th>\n",
       "      <td>335982</td>\n",
       "      <td>0</td>\n",
       "      <td>0.2</td>\n",
       "      <td>BB McCullum</td>\n",
       "      <td>SC Ganguly</td>\n",
       "      <td>Kolkata Knight Riders</td>\n",
       "      <td>P Kumar</td>\n",
       "      <td>Royal Challengers Bangalore</td>\n",
       "      <td>0</td>\n",
       "      <td>0</td>\n",
       "      <td>0</td>\n",
       "      <td>none</td>\n",
       "      <td>none</td>\n",
       "      <td>none</td>\n",
       "      <td>none</td>\n",
       "      <td>2008</td>\n",
       "    </tr>\n",
       "    <tr>\n",
       "      <th>2</th>\n",
       "      <td>335982</td>\n",
       "      <td>0</td>\n",
       "      <td>0.3</td>\n",
       "      <td>BB McCullum</td>\n",
       "      <td>SC Ganguly</td>\n",
       "      <td>Kolkata Knight Riders</td>\n",
       "      <td>P Kumar</td>\n",
       "      <td>Royal Challengers Bangalore</td>\n",
       "      <td>0</td>\n",
       "      <td>1</td>\n",
       "      <td>1</td>\n",
       "      <td>wides</td>\n",
       "      <td>none</td>\n",
       "      <td>none</td>\n",
       "      <td>none</td>\n",
       "      <td>2008</td>\n",
       "    </tr>\n",
       "    <tr>\n",
       "      <th>3</th>\n",
       "      <td>335982</td>\n",
       "      <td>0</td>\n",
       "      <td>0.4</td>\n",
       "      <td>BB McCullum</td>\n",
       "      <td>SC Ganguly</td>\n",
       "      <td>Kolkata Knight Riders</td>\n",
       "      <td>P Kumar</td>\n",
       "      <td>Royal Challengers Bangalore</td>\n",
       "      <td>0</td>\n",
       "      <td>0</td>\n",
       "      <td>0</td>\n",
       "      <td>none</td>\n",
       "      <td>none</td>\n",
       "      <td>none</td>\n",
       "      <td>none</td>\n",
       "      <td>2008</td>\n",
       "    </tr>\n",
       "    <tr>\n",
       "      <th>4</th>\n",
       "      <td>335982</td>\n",
       "      <td>0</td>\n",
       "      <td>0.5</td>\n",
       "      <td>BB McCullum</td>\n",
       "      <td>SC Ganguly</td>\n",
       "      <td>Kolkata Knight Riders</td>\n",
       "      <td>P Kumar</td>\n",
       "      <td>Royal Challengers Bangalore</td>\n",
       "      <td>0</td>\n",
       "      <td>0</td>\n",
       "      <td>0</td>\n",
       "      <td>none</td>\n",
       "      <td>none</td>\n",
       "      <td>none</td>\n",
       "      <td>none</td>\n",
       "      <td>2008</td>\n",
       "    </tr>\n",
       "  </tbody>\n",
       "</table>\n",
       "</div>"
      ],
      "text/plain": [
       "   match_id  innings  ball      batsman  non_striker           batting_team  \\\n",
       "0    335982        0   0.1   SC Ganguly  BB McCullum  Kolkata Knight Riders   \n",
       "1    335982        0   0.2  BB McCullum   SC Ganguly  Kolkata Knight Riders   \n",
       "2    335982        0   0.3  BB McCullum   SC Ganguly  Kolkata Knight Riders   \n",
       "3    335982        0   0.4  BB McCullum   SC Ganguly  Kolkata Knight Riders   \n",
       "4    335982        0   0.5  BB McCullum   SC Ganguly  Kolkata Knight Riders   \n",
       "\n",
       "    bowler                 bowling_team  batsman_runs  extra_runs  total_runs  \\\n",
       "0  P Kumar  Royal Challengers Bangalore             0           1           1   \n",
       "1  P Kumar  Royal Challengers Bangalore             0           0           0   \n",
       "2  P Kumar  Royal Challengers Bangalore             0           1           1   \n",
       "3  P Kumar  Royal Challengers Bangalore             0           0           0   \n",
       "4  P Kumar  Royal Challengers Bangalore             0           0           0   \n",
       "\n",
       "  extra_type out_type player_out fielder_involved  season  \n",
       "0    legbyes     none       none             none    2008  \n",
       "1       none     none       none             none    2008  \n",
       "2      wides     none       none             none    2008  \n",
       "3       none     none       none             none    2008  \n",
       "4       none     none       none             none    2008  "
      ]
     },
     "execution_count": 4,
     "metadata": {},
     "output_type": "execute_result"
    }
   ],
   "source": [
    "events = pd.merge(events,match_info[[\"match_id\",\"season\"]],how=\"left\",on=['match_id'])\n",
    "events.head()"
   ]
  },
  {
   "cell_type": "code",
   "execution_count": 7,
   "metadata": {
    "collapsed": false
   },
   "outputs": [
    {
     "data": {
      "text/html": [
       "<div>\n",
       "<table border=\"1\" class=\"dataframe\">\n",
       "  <thead>\n",
       "    <tr style=\"text-align: right;\">\n",
       "      <th></th>\n",
       "      <th></th>\n",
       "      <th></th>\n",
       "      <th></th>\n",
       "      <th></th>\n",
       "      <th>batsman_runs</th>\n",
       "      <th>ball</th>\n",
       "      <th>extra_runs</th>\n",
       "      <th>total_runs</th>\n",
       "    </tr>\n",
       "    <tr>\n",
       "      <th>season</th>\n",
       "      <th>match_id</th>\n",
       "      <th>innings</th>\n",
       "      <th>batting_team</th>\n",
       "      <th>bowling_team</th>\n",
       "      <th></th>\n",
       "      <th></th>\n",
       "      <th></th>\n",
       "      <th></th>\n",
       "    </tr>\n",
       "  </thead>\n",
       "  <tbody>\n",
       "    <tr>\n",
       "      <th rowspan=\"5\" valign=\"top\">2008</th>\n",
       "      <th rowspan=\"2\" valign=\"top\">335982</th>\n",
       "      <th>0</th>\n",
       "      <th>Kolkata Knight Riders</th>\n",
       "      <th>Royal Challengers Bangalore</th>\n",
       "      <td>205</td>\n",
       "      <td>19.6</td>\n",
       "      <td>17</td>\n",
       "      <td>222</td>\n",
       "    </tr>\n",
       "    <tr>\n",
       "      <th>1</th>\n",
       "      <th>Royal Challengers Bangalore</th>\n",
       "      <th>Kolkata Knight Riders</th>\n",
       "      <td>64</td>\n",
       "      <td>15.2</td>\n",
       "      <td>19</td>\n",
       "      <td>83</td>\n",
       "    </tr>\n",
       "    <tr>\n",
       "      <th rowspan=\"2\" valign=\"top\">335983</th>\n",
       "      <th>0</th>\n",
       "      <th>Chennai Super Kings</th>\n",
       "      <th>Kings XI Punjab</th>\n",
       "      <td>234</td>\n",
       "      <td>19.6</td>\n",
       "      <td>6</td>\n",
       "      <td>240</td>\n",
       "    </tr>\n",
       "    <tr>\n",
       "      <th>1</th>\n",
       "      <th>Kings XI Punjab</th>\n",
       "      <th>Chennai Super Kings</th>\n",
       "      <td>196</td>\n",
       "      <td>19.6</td>\n",
       "      <td>11</td>\n",
       "      <td>207</td>\n",
       "    </tr>\n",
       "    <tr>\n",
       "      <th>335984</th>\n",
       "      <th>0</th>\n",
       "      <th>Rajasthan Royals</th>\n",
       "      <th>Delhi Daredevils</th>\n",
       "      <td>123</td>\n",
       "      <td>19.6</td>\n",
       "      <td>7</td>\n",
       "      <td>130</td>\n",
       "    </tr>\n",
       "  </tbody>\n",
       "</table>\n",
       "</div>"
      ],
      "text/plain": [
       "                                                                                 batsman_runs  \\\n",
       "season match_id innings batting_team                bowling_team                                \n",
       "2008   335982   0       Kolkata Knight Riders       Royal Challengers Bangalore           205   \n",
       "                1       Royal Challengers Bangalore Kolkata Knight Riders                  64   \n",
       "       335983   0       Chennai Super Kings         Kings XI Punjab                       234   \n",
       "                1       Kings XI Punjab             Chennai Super Kings                   196   \n",
       "       335984   0       Rajasthan Royals            Delhi Daredevils                      123   \n",
       "\n",
       "                                                                                 ball  \\\n",
       "season match_id innings batting_team                bowling_team                        \n",
       "2008   335982   0       Kolkata Knight Riders       Royal Challengers Bangalore  19.6   \n",
       "                1       Royal Challengers Bangalore Kolkata Knight Riders        15.2   \n",
       "       335983   0       Chennai Super Kings         Kings XI Punjab              19.6   \n",
       "                1       Kings XI Punjab             Chennai Super Kings          19.6   \n",
       "       335984   0       Rajasthan Royals            Delhi Daredevils             19.6   \n",
       "\n",
       "                                                                                 extra_runs  \\\n",
       "season match_id innings batting_team                bowling_team                              \n",
       "2008   335982   0       Kolkata Knight Riders       Royal Challengers Bangalore          17   \n",
       "                1       Royal Challengers Bangalore Kolkata Knight Riders                19   \n",
       "       335983   0       Chennai Super Kings         Kings XI Punjab                       6   \n",
       "                1       Kings XI Punjab             Chennai Super Kings                  11   \n",
       "       335984   0       Rajasthan Royals            Delhi Daredevils                      7   \n",
       "\n",
       "                                                                                 total_runs  \n",
       "season match_id innings batting_team                bowling_team                             \n",
       "2008   335982   0       Kolkata Knight Riders       Royal Challengers Bangalore         222  \n",
       "                1       Royal Challengers Bangalore Kolkata Knight Riders                83  \n",
       "       335983   0       Chennai Super Kings         Kings XI Punjab                     240  \n",
       "                1       Kings XI Punjab             Chennai Super Kings                 207  \n",
       "       335984   0       Rajasthan Royals            Delhi Daredevils                    130  "
      ]
     },
     "execution_count": 7,
     "metadata": {},
     "output_type": "execute_result"
    }
   ],
   "source": [
    "match_summary = events.groupby(['season','match_id','innings','batting_team','bowling_team']).agg({'batsman_runs':sum\n",
    "                                                                                                  ,'ball':max\n",
    "                                                                                                  ,'extra_runs':sum\n",
    "                                                                                                  ,'total_runs':sum})\n",
    "match_summary.head()"
   ]
  }
 ],
 "metadata": {
  "kernelspec": {
   "display_name": "Python 3",
   "language": "python",
   "name": "python3"
  },
  "language_info": {
   "codemirror_mode": {
    "name": "ipython",
    "version": 3
   },
   "file_extension": ".py",
   "mimetype": "text/x-python",
   "name": "python",
   "nbconvert_exporter": "python",
   "pygments_lexer": "ipython3",
   "version": "3.6.0"
  }
 },
 "nbformat": 4,
 "nbformat_minor": 2
}
